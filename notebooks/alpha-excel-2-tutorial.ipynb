{
 "cells": [
  {
   "cell_type": "markdown",
   "id": "02bdef76",
   "metadata": {},
   "source": [
    "# Alpha Excel v2.0 Tutorial\n",
    "\n",
    "이 노트북은 alpha-excel v2.0의 핵심 기능을 간단하게 소개합니다.\n",
    "\n",
    "## 주요 특징\n",
    "- **즉시 실행 (Eager Execution)**: 연산이 즉시 실행됨\n",
    "- **타입 인식 시스템**: numeric, group, weight, mask 타입별 자동 전처리\n",
    "- **메서드 기반 API**: import 없이 IDE 자동완성 지원\n",
    "- **캐시 상속**: 상위 단계의 캐시를 하위 단계에서 접근 가능\n",
    "- **설정 기반 설계**: YAML 파일로 동작 제어"
   ]
  },
  {
   "cell_type": "code",
   "execution_count": 1,
   "id": "2cad4bce",
   "metadata": {},
   "outputs": [],
   "source": [
    "import sys\n",
    "from pathlib import Path\n",
    "import numpy as np\n",
    "import pandas as pd\n",
    "import matplotlib.pyplot as plt\n",
    "\n",
    "# 프로젝트 루트를 path에 추가\n",
    "project_root = Path.cwd().parent\n",
    "sys.path.insert(0, str(project_root / \"src\"))\n",
    "\n",
    "from alpha_excel2.core.facade import AlphaExcel"
   ]
  },
  {
   "cell_type": "markdown",
   "id": "063c0cad",
   "metadata": {},
   "source": [
    "## 1. AlphaExcel 초기화\n",
    "\n",
    "시작일과 종료일을 지정하여 AlphaExcel 인스턴스를 생성합니다."
   ]
  },
  {
   "cell_type": "code",
   "execution_count": 2,
   "id": "021e169d",
   "metadata": {},
   "outputs": [
    {
     "name": "stdout",
     "output_type": "stream",
     "text": [
      "Time Range: 2023-01-29 00:00:00 to 2023-02-28 00:00:00\n",
      "Universe Shape: (22, 2477)\n"
     ]
    }
   ],
   "source": [
    "ae = AlphaExcel(\n",
    "    start_time='2023-01-29',\n",
    "    end_time='2023-02-28',\n",
    "    universe=None,\n",
    "    config_path='../config'\n",
    ")\n",
    "\n",
    "print(f\"Time Range: {ae._start_time} to {ae._end_time}\")\n",
    "print(f\"Universe Shape: {ae._universe_mask._data.shape}\")"
   ]
  },
  {
   "cell_type": "markdown",
   "id": "03b000d1",
   "metadata": {},
   "source": [
    "## 2. 사용 가능한 연산자 확인\n",
    "\n",
    "카테고리별로 등록된 연산자를 확인합니다."
   ]
  },
  {
   "cell_type": "code",
   "execution_count": 3,
   "id": "419e36e1",
   "metadata": {},
   "outputs": [
    {
     "name": "stdout",
     "output_type": "stream",
     "text": [
      "\n",
      "crosssection:\n",
      "  - rank\n",
      "\n",
      "group:\n",
      "  - group_rank\n",
      "\n",
      "timeseries:\n",
      "  - ts_mean\n"
     ]
    }
   ],
   "source": [
    "o = ae.ops\n",
    "\n",
    "by_category = o.list_operators_by_category()\n",
    "for category, ops in sorted(by_category.items()):\n",
    "    print(f\"\\n{category}:\")\n",
    "    for op in ops:\n",
    "        print(f\"  - {op}\")"
   ]
  },
  {
   "cell_type": "markdown",
   "id": "4b9e6f58",
   "metadata": {},
   "source": [
    "## 3. 데이터 필드 로딩\n",
    "\n",
    "서로 다른 타입의 필드를 로딩합니다:\n",
    "- `fnguide_market_cap`: numeric 타입 (시가총액)\n",
    "- `returns`: numeric 타입 (수익률)\n",
    "- `fnguide_sector`: group 타입 (섹터)"
   ]
  },
  {
   "cell_type": "code",
   "execution_count": 4,
   "id": "0ed8d8ec",
   "metadata": {},
   "outputs": [
    {
     "name": "stdout",
     "output_type": "stream",
     "text": [
      "[Market Cap]\n",
      "Data type: numeric\n",
      "symbol           A000020       A000040       A000050       A000060  \\\n",
      "date                                                                 \n",
      "2023-01-30  2.606010e+11  5.162600e+10  2.914240e+11  5.732970e+12   \n",
      "2023-01-31  2.619970e+11  5.105000e+10  2.933430e+11  5.732970e+12   \n",
      "2023-02-01  2.633940e+11  5.095300e+10  2.944400e+11  5.732970e+12   \n",
      "2023-02-02  2.647900e+11  5.114600e+10  2.982780e+11  5.732970e+12   \n",
      "2023-02-03  2.625560e+11  5.191500e+10  3.001970e+11  5.732970e+12   \n",
      "2023-02-06  2.633940e+11  5.210700e+10  3.040350e+11  5.732970e+12   \n",
      "2023-02-07  2.673040e+11  5.229900e+10  3.012940e+11  5.394012e+12   \n",
      "2023-02-08  2.647900e+11  5.191500e+10  2.982780e+11  5.394012e+12   \n",
      "2023-02-09  2.650700e+11  5.191500e+10  2.996490e+11  5.394012e+12   \n",
      "2023-02-10  2.633940e+11  5.095300e+10  2.966330e+11  5.394012e+12   \n",
      "\n",
      "symbol           A000070       A000080       A000100       A000120  \\\n",
      "date                                                                 \n",
      "2023-01-30  6.132020e+11  1.823474e+12  4.061849e+12  2.059955e+12   \n",
      "2023-01-31  6.157710e+11  1.844514e+12  4.008202e+12  2.057673e+12   \n",
      "2023-02-01  6.174840e+11  1.823474e+12  4.084840e+12  2.055392e+12   \n",
      "2023-02-02  6.200530e+11  1.823474e+12  4.092504e+12  2.062236e+12   \n",
      "2023-02-03  6.200530e+11  1.833994e+12  4.084840e+12  2.096454e+12   \n",
      "2023-02-06  6.217660e+11  1.830487e+12  4.038857e+12  2.046267e+12   \n",
      "2023-02-07  6.500280e+11  1.816461e+12  4.038857e+12  2.043986e+12   \n",
      "2023-02-08  6.226230e+11  1.812954e+12  4.084840e+12  2.048548e+12   \n",
      "2023-02-09  6.140580e+11  1.805940e+12  4.084840e+12  2.032580e+12   \n",
      "2023-02-10  6.114890e+11  1.791914e+12  4.031193e+12  1.989236e+12   \n",
      "\n",
      "symbol           A000140       A000150  \n",
      "date                                    \n",
      "2023-01-30  2.346200e+11  1.531760e+12  \n",
      "2023-01-31  2.371730e+11  1.530107e+12  \n",
      "2023-02-01  2.353170e+11  1.493755e+12  \n",
      "2023-02-02  2.362450e+11  1.492102e+12  \n",
      "2023-02-03  2.355490e+11  1.473926e+12  \n",
      "2023-02-06  2.360130e+11  1.449140e+12  \n",
      "2023-02-07  2.346200e+11  1.444183e+12  \n",
      "2023-02-08  2.339240e+11  1.468969e+12  \n",
      "2023-02-09  2.346200e+11  1.449140e+12  \n",
      "2023-02-10  2.346200e+11  1.426007e+12  \n"
     ]
    }
   ],
   "source": [
    "f = ae.field\n",
    "\n",
    "# 시가총액 로딩\n",
    "cap = f('fnguide_market_cap')\n",
    "print(\"[Market Cap]\")\n",
    "print(f\"Data type: {cap._data_type}\")\n",
    "print(cap.to_df().iloc[:10, :10])"
   ]
  },
  {
   "cell_type": "code",
   "execution_count": 5,
   "id": "76f60b99",
   "metadata": {},
   "outputs": [
    {
     "name": "stdout",
     "output_type": "stream",
     "text": [
      "[Returns]\n",
      "Data type: numeric\n",
      "symbol       A000020   A000040   A000050  A000060   A000070   A000080  \\\n",
      "date                                                                    \n",
      "2023-01-30  0.004306 -0.005135  0.000000      0.0  0.002801  0.003861   \n",
      "2023-01-31  0.005359 -0.011613  0.006585      0.0  0.004190  0.011538   \n",
      "2023-02-01  0.005330 -0.001305  0.003738      0.0  0.002782 -0.011407   \n",
      "2023-02-02  0.005302  0.003268  0.013035      0.0  0.004161  0.000000   \n",
      "2023-02-03 -0.008439  0.014984  0.006434      0.0  0.000000  0.005769   \n",
      "2023-02-06  0.003191  0.003851  0.012785      0.0  0.002762 -0.001912   \n",
      "2023-02-07  0.014846  0.003836 -0.009017      0.0  0.045455 -0.007663   \n",
      "2023-02-08 -0.009404 -0.007643 -0.010009      0.0 -0.042161 -0.001931   \n",
      "2023-02-09  0.001055  0.000000  0.004596      0.0 -0.013755 -0.003868   \n",
      "2023-02-10 -0.006322 -0.017972 -0.010064      0.0 -0.004184 -0.007767   \n",
      "\n",
      "symbol       A000100   A000120   A000140   A000150  \n",
      "date                                                \n",
      "2023-01-30 -0.020337 -0.013115 -0.000988 -0.005365  \n",
      "2023-01-31 -0.013208 -0.001107  0.010880 -0.001079  \n",
      "2023-02-01  0.019119 -0.001109 -0.007828 -0.023758  \n",
      "2023-02-02  0.001882  0.003330  0.003945 -0.001106  \n",
      "2023-02-03 -0.001878  0.016593 -0.002947 -0.012182  \n",
      "2023-02-06 -0.011252 -0.023939  0.001970 -0.016816  \n",
      "2023-02-07  0.000000 -0.001115 -0.005900 -0.003421  \n",
      "2023-02-08  0.011380  0.002232 -0.002967  0.017162  \n",
      "2023-02-09  0.000000 -0.007795  0.002976 -0.013498  \n",
      "2023-02-10 -0.013134 -0.021324  0.000000 -0.015964  \n"
     ]
    }
   ],
   "source": [
    "# 수익률 로딩\n",
    "ret = f('returns')\n",
    "print(\"[Returns]\")\n",
    "print(f\"Data type: {ret._data_type}\")\n",
    "print(ret.to_df().iloc[:10, :10])"
   ]
  },
  {
   "cell_type": "code",
   "execution_count": 6,
   "id": "43d94df3",
   "metadata": {},
   "outputs": [
    {
     "name": "stdout",
     "output_type": "stream",
     "text": [
      "[Sector]\n",
      "Data type: group\n",
      "symbol     A000020 A000040 A000050 A000060 A000070 A000080 A000100 A000120  \\\n",
      "date                                                                         \n",
      "2023-01-30     NaN     NaN     NaN     NaN     NaN     NaN     NaN     NaN   \n",
      "2023-01-31      의료   경기소비재   경기소비재      금융      소재   필수소비재      의료     산업재   \n",
      "2023-02-01      의료   경기소비재   경기소비재      금융      소재   필수소비재      의료     산업재   \n",
      "2023-02-02      의료   경기소비재   경기소비재      금융      소재   필수소비재      의료     산업재   \n",
      "2023-02-03      의료   경기소비재   경기소비재      금융      소재   필수소비재      의료     산업재   \n",
      "2023-02-06      의료   경기소비재   경기소비재      금융      소재   필수소비재      의료     산업재   \n",
      "2023-02-07      의료   경기소비재   경기소비재      금융      소재   필수소비재      의료     산업재   \n",
      "2023-02-08      의료   경기소비재   경기소비재      금융      소재   필수소비재      의료     산업재   \n",
      "2023-02-09      의료   경기소비재   경기소비재      금융      소재   필수소비재      의료     산업재   \n",
      "2023-02-10      의료   경기소비재   경기소비재      금융      소재   필수소비재      의료     산업재   \n",
      "\n",
      "symbol     A000140 A000150  \n",
      "date                        \n",
      "2023-01-30     NaN     NaN  \n",
      "2023-01-31   필수소비재     산업재  \n",
      "2023-02-01   필수소비재     산업재  \n",
      "2023-02-02   필수소비재     산업재  \n",
      "2023-02-03   필수소비재     산업재  \n",
      "2023-02-06   필수소비재     산업재  \n",
      "2023-02-07   필수소비재     산업재  \n",
      "2023-02-08   필수소비재     산업재  \n",
      "2023-02-09   필수소비재     산업재  \n",
      "2023-02-10   필수소비재     산업재  \n"
     ]
    }
   ],
   "source": [
    "# 섹터 로딩\n",
    "sector = f('fnguide_sector')\n",
    "print(\"[Sector]\")\n",
    "print(f\"Data type: {sector._data_type}\")\n",
    "print(sector.to_df().iloc[:10, :10])"
   ]
  },
  {
   "cell_type": "markdown",
   "id": "dae2d8be",
   "metadata": {},
   "source": [
    "## 4. 시계열 연산 및 모멘텀 시그널 생성\n",
    "\n",
    "이동평균을 계산하고 모멘텀 시그널을 생성합니다."
   ]
  },
  {
   "cell_type": "code",
   "execution_count": 7,
   "id": "1bfd5c80",
   "metadata": {},
   "outputs": [
    {
     "name": "stdout",
     "output_type": "stream",
     "text": [
      "[Momentum Signal]\n",
      "symbol       A000020   A000040   A000050  A000060   A000070   A000080  \\\n",
      "date                                                                    \n",
      "2023-01-30       NaN       NaN       NaN      NaN       NaN       NaN   \n",
      "2023-01-31  0.000000  0.000000  0.000000      0.0  0.000000  0.000000   \n",
      "2023-02-01  0.000000  0.000000  0.000000      0.0  0.000000  0.000000   \n",
      "2023-02-02  0.000256  0.000479  0.001947      0.0  0.000227 -0.000954   \n",
      "2023-02-03 -0.001640  0.005609  0.001777      0.0 -0.000473 -0.003832   \n",
      "2023-02-06 -0.002131  0.005531  0.002236      0.0 -0.000471  0.000488   \n",
      "2023-02-07 -0.000847  0.002630 -0.001994      0.0  0.005040  0.001774   \n",
      "2023-02-08  0.001778 -0.003644 -0.004726      0.0 -0.000025 -0.002688   \n",
      "2023-02-09  0.001916 -0.004275 -0.005768      0.0 -0.001947 -0.002566   \n",
      "2023-02-10 -0.005564 -0.004953 -0.002817      0.0 -0.017657  0.000106   \n",
      "\n",
      "symbol       A000100   A000120   A000140   A000150  ...   A950110   A950130  \\\n",
      "date                                                ...                       \n",
      "2023-01-30       NaN       NaN       NaN       NaN  ...       NaN       NaN   \n",
      "2023-01-31  0.000000  0.000000  0.000000  0.000000  ...  0.000000  0.000000   \n",
      "2023-02-01  0.000000  0.000000  0.000000  0.000000  ...  0.000000  0.000000   \n",
      "2023-02-02  0.005734  0.003371  0.000830 -0.000821  ...  0.002256  0.009177   \n",
      "2023-02-03  0.009259  0.005353 -0.002889 -0.003651  ...  0.000277  0.012642   \n",
      "2023-02-06 -0.002682 -0.000092 -0.000215  0.000954  ... -0.007703  0.008052   \n",
      "2023-02-07 -0.005951 -0.001572 -0.000140  0.000650  ...  0.000588  0.002828   \n",
      "2023-02-08  0.000016 -0.007027 -0.001119  0.002248  ... -0.008238 -0.006996   \n",
      "2023-02-09  0.004144  0.000579 -0.000590  0.005832  ... -0.001530 -0.006674   \n",
      "2023-02-10  0.002017  0.001426  0.000787  0.002407  ...  0.005565 -0.007276   \n",
      "\n",
      "symbol       A950140   A950160   A950170  A950180   A950190   A950200  \\\n",
      "date                                                                    \n",
      "2023-01-30       NaN       NaN       NaN      NaN       NaN       NaN   \n",
      "2023-01-31  0.000000  0.000000  0.000000      NaN  0.000000  0.000000   \n",
      "2023-02-01  0.000000  0.000000  0.000000      NaN  0.000000  0.000000   \n",
      "2023-02-02  0.010626  0.005375 -0.013798      NaN  0.000846 -0.005510   \n",
      "2023-02-03  0.009756  0.016483 -0.007844      NaN  0.008217  0.000822   \n",
      "2023-02-06  0.007392 -0.000511  0.015507      NaN  0.007429  0.022755   \n",
      "2023-02-07 -0.007684 -0.005435  0.023481      NaN  0.002000  0.004999   \n",
      "2023-02-08 -0.003849 -0.001562  0.010930      NaN -0.005294 -0.004312   \n",
      "2023-02-09  0.003006  0.002947 -0.018028      NaN -0.003438 -0.008681   \n",
      "2023-02-10 -0.001289 -0.001710 -0.015070      NaN -0.005060 -0.012818   \n",
      "\n",
      "symbol       A950210   A950220  \n",
      "date                            \n",
      "2023-01-30       NaN       NaN  \n",
      "2023-01-31  0.000000  0.000000  \n",
      "2023-02-01  0.000000  0.000000  \n",
      "2023-02-02  0.009435  0.006595  \n",
      "2023-02-03  0.004660  0.006624  \n",
      "2023-02-06 -0.000336 -0.001027  \n",
      "2023-02-07  0.022383 -0.005250  \n",
      "2023-02-08  0.017133 -0.003179  \n",
      "2023-02-09  0.012786  0.001593  \n",
      "2023-02-10 -0.030326 -0.000697  \n",
      "\n",
      "[10 rows x 2477 columns]\n"
     ]
    }
   ],
   "source": [
    "# 3일 이동평균 (캐시 기록)\n",
    "ma3 = o.ts_mean(ret, window=3, record_output=True)\n",
    "\n",
    "# 5일 이동평균\n",
    "ma5 = o.ts_mean(ret, window=5)\n",
    "\n",
    "# 모멘텀 = ma3 - ma5\n",
    "momentum = ma3 - ma5\n",
    "\n",
    "print(\"[Momentum Signal]\")\n",
    "print(momentum.to_df().head(10))"
   ]
  },
  {
   "cell_type": "markdown",
   "id": "8c80091a",
   "metadata": {},
   "source": [
    "## 5. 그룹 연산: 섹터 내 순위\n",
    "\n",
    "각 섹터 내에서 모멘텀 시그널의 순위를 계산합니다."
   ]
  },
  {
   "cell_type": "code",
   "execution_count": 8,
   "id": "35596437",
   "metadata": {},
   "outputs": [
    {
     "name": "stdout",
     "output_type": "stream",
     "text": [
      "[Group Rank Signal]\n",
      "symbol       A000020   A000040   A000050   A000060   A000070   A000080  \\\n",
      "date                                                                     \n",
      "2023-01-30       NaN       NaN       NaN       NaN       NaN       NaN   \n",
      "2023-01-31  0.501623  0.501155  0.501155  0.503226  0.501887  0.502924   \n",
      "2023-02-01  0.501623  0.501155  0.501155  0.503226  0.501887  0.502924   \n",
      "2023-02-02  0.165584  0.355658  0.482679  0.322581  0.188679  0.181287   \n",
      "2023-02-03  0.168831  0.720554  0.512702  0.361290  0.260377  0.099415   \n",
      "2023-02-06  0.454545  0.836028  0.660508  0.483871  0.452830  0.415205   \n",
      "2023-02-07  0.737013  0.806005  0.494226  0.635484  0.913208  0.766082   \n",
      "2023-02-08  0.847403  0.307159  0.258661  0.500000  0.494340  0.350877   \n",
      "2023-02-09  0.464286  0.173210  0.131640  0.396774  0.339623  0.304094   \n",
      "2023-02-10  0.181818  0.217090  0.334873  0.435484  0.026415  0.555556   \n",
      "\n",
      "symbol       A000100   A000120   A000140   A000150  ...   A950110   A950130  \\\n",
      "date                                                ...                       \n",
      "2023-01-30       NaN       NaN       NaN       NaN  ...       NaN       NaN   \n",
      "2023-01-31  0.501623  0.501466  0.502924  0.501466  ...  0.500729  0.501623   \n",
      "2023-02-01  0.501623  0.501466  0.502924  0.501466  ...  0.500728  0.501623   \n",
      "2023-02-02  0.613636  0.639296  0.403509  0.281525  ...  0.494905  0.795455   \n",
      "2023-02-03  0.737013  0.841642  0.157895  0.272727  ...  0.360990  0.863636   \n",
      "2023-02-06  0.412338  0.563050  0.339181  0.665689  ...  0.129549  0.922078   \n",
      "2023-02-07  0.412338  0.524927  0.614035  0.733138  ...  0.724891  0.909091   \n",
      "2023-02-08  0.737013  0.102639  0.526316  0.715543  ...  0.193595  0.207792   \n",
      "2023-02-09  0.649351  0.428152  0.473684  0.739003  ...  0.211063  0.097403   \n",
      "2023-02-10  0.701299  0.601173  0.643275  0.674487  ...  0.832606  0.136364   \n",
      "\n",
      "symbol       A950140   A950160   A950170  A950180   A950190   A950200  \\\n",
      "date                                                                    \n",
      "2023-01-30       NaN       NaN       NaN      NaN       NaN       NaN   \n",
      "2023-01-31  0.502924  0.501623  0.501155      NaN  0.500729  0.501623   \n",
      "2023-02-01  0.502924  0.501623  0.501155      NaN  0.500728  0.501623   \n",
      "2023-02-02  0.912281  0.581169  0.034642      NaN  0.390102  0.048701   \n",
      "2023-02-03  0.865497  0.925325  0.083141      NaN  0.742358  0.269481   \n",
      "2023-02-06  0.853801  0.551948  0.969977      NaN  0.807860  0.987013   \n",
      "2023-02-07  0.140351  0.457792  1.000000      NaN  0.767103  0.931818   \n",
      "2023-02-08  0.263158  0.584416  0.953811      NaN  0.279476  0.344156   \n",
      "2023-02-09  0.748538  0.545455  0.034642      NaN  0.160116  0.081169   \n",
      "2023-02-10  0.415205  0.428571  0.043880      NaN  0.296943  0.055195   \n",
      "\n",
      "symbol       A950210   A950220  \n",
      "date                            \n",
      "2023-01-30       NaN       NaN  \n",
      "2023-01-31  0.501623  0.501623  \n",
      "2023-02-01  0.501623  0.501623  \n",
      "2023-02-02  0.821429  0.688312  \n",
      "2023-02-03  0.487013  0.613636  \n",
      "2023-02-06  0.564935  0.522727  \n",
      "2023-02-07  0.993506  0.461039  \n",
      "2023-02-08  0.980519  0.441558  \n",
      "2023-02-09  0.925325  0.451299  \n",
      "2023-02-10  0.012987  0.490260  \n",
      "\n",
      "[10 rows x 2477 columns]\n"
     ]
    }
   ],
   "source": [
    "signal = o.group_rank(momentum, sector)\n",
    "\n",
    "print(\"[Group Rank Signal]\")\n",
    "print(signal.to_df().head(10))"
   ]
  },
  {
   "cell_type": "markdown",
   "id": "09f5bed0",
   "metadata": {},
   "source": [
    "## 6. 시그널 히스토리 및 캐시 확인\n",
    "\n",
    "각 단계의 연산 히스토리와 캐시를 확인합니다."
   ]
  },
  {
   "cell_type": "code",
   "execution_count": 11,
   "id": "00d876b0",
   "metadata": {},
   "outputs": [
    {
     "name": "stdout",
     "output_type": "stream",
     "text": [
      "\n",
      "Step -1:\n",
      "{'step': 3, 'expr': 'GroupRank((TsMean(Field(returns), window=3) - TsMean(Field(returns), window=5)), Field(fnguide_sector))', 'op': 'GroupRank'}\n"
     ]
    }
   ],
   "source": [
    "# 마지막 단계의 히스토리\n",
    "print(\"\\nStep -1:\")\n",
    "print(signal._step_history[-1])"
   ]
  },
  {
   "cell_type": "code",
   "execution_count": 16,
   "id": "b3a5c305",
   "metadata": {},
   "outputs": [
    {
     "name": "stdout",
     "output_type": "stream",
     "text": [
      "[Cache Information]\n",
      "Step Counter: 3\n",
      "Cache Size: 1\n",
      "\n",
      "Cached Steps:\n"
     ]
    },
    {
     "data": {
      "text/plain": [
       "CachedStep(step=1, name='TsMean(Field(returns), window=3)', data=symbol       A000020   A000040   A000050  A000060   A000070   A000080  \\\n",
       "date                                                                    \n",
       "2023-01-30  0.004306 -0.005135  0.000000      0.0  0.002801  0.003861   \n",
       "2023-01-31  0.004832 -0.008374  0.003293      0.0  0.003496  0.007700   \n",
       "2023-02-01  0.004998 -0.006018  0.003441      0.0  0.003258  0.001331   \n",
       "2023-02-02  0.005331 -0.003217  0.007786      0.0  0.003711  0.000044   \n",
       "2023-02-03  0.000731  0.005649  0.007736      0.0  0.002314 -0.001879   \n",
       "2023-02-06  0.000018  0.007368  0.010752      0.0  0.002308  0.001286   \n",
       "2023-02-07  0.003200  0.007557  0.003401      0.0  0.016072 -0.001269   \n",
       "2023-02-08  0.002878  0.000015 -0.002080      0.0  0.002019 -0.003835   \n",
       "2023-02-09  0.002166 -0.001269 -0.004810      0.0 -0.003487 -0.004487   \n",
       "2023-02-10 -0.004891 -0.008538 -0.005159      0.0 -0.020033 -0.004522   \n",
       "2023-02-13 -0.001756 -0.010566  0.000642      0.0 -0.006447 -0.002574   \n",
       "2023-02-14 -0.003168 -0.009903 -0.000584      0.0  0.003749 -0.003883   \n",
       "2023-02-15 -0.005670 -0.011408  0.001548      0.0  0.001005 -0.004569   \n",
       "2023-02-16 -0.003153  0.000159 -0.000916      0.0  0.004731 -0.007196   \n",
       "2023-02-17 -0.006376 -0.003597 -0.000302      0.0  0.000504 -0.006589   \n",
       "2023-02-20  0.001850  0.005906  0.001226      0.0  0.011070  0.002697   \n",
       "2023-02-21 -0.002098  0.000022  0.001837      NaN  0.009613  0.000739   \n",
       "2023-02-22 -0.003562 -0.003291  0.000917      NaN  0.011366 -0.007209   \n",
       "2023-02-23 -0.005350 -0.005748  0.001831      NaN  0.020029 -0.007074   \n",
       "2023-02-24 -0.006828 -0.004376  0.000308      NaN  0.016104 -0.003793   \n",
       "2023-02-27 -0.001081 -0.006253 -0.002434      NaN  0.014250 -0.003913   \n",
       "2023-02-28 -0.005475  0.000167  0.000340      NaN  0.001287 -0.012827   \n",
       "\n",
       "symbol       A000100   A000120       A000140   A000150  ...   A950110  \\\n",
       "date                                                    ...             \n",
       "2023-01-30 -0.020337 -0.013115 -9.881423e-04 -0.005365  ...  0.001290   \n",
       "2023-01-31 -0.016773 -0.007111  4.946087e-03 -0.003222  ...  0.013532   \n",
       "2023-02-01 -0.004809 -0.005110  6.881285e-04 -0.010067  ...  0.014046   \n",
       "2023-02-02  0.002597  0.000371  2.332434e-03 -0.008648  ...  0.010316   \n",
       "2023-02-03  0.006374  0.006271 -2.276657e-03 -0.012349  ...  0.014225   \n",
       "2023-02-06 -0.003750 -0.001339  9.894206e-04 -0.010035  ...  0.001168   \n",
       "2023-02-07 -0.004377 -0.002820 -2.292072e-03 -0.010806  ...  0.004056   \n",
       "2023-02-08  0.000043 -0.007607 -2.298874e-03 -0.001025  ... -0.006796   \n",
       "2023-02-09  0.003793 -0.002226 -1.963625e-03  0.000081  ...  0.002877   \n",
       "2023-02-10 -0.000585 -0.008962  2.943809e-06 -0.004100  ...  0.001248   \n",
       "2023-02-13 -0.006278 -0.012382  6.623569e-04 -0.005572  ... -0.005326   \n",
       "2023-02-14 -0.007550 -0.009784  3.264421e-07 -0.003361  ... -0.001966   \n",
       "2023-02-15 -0.004449 -0.014237 -2.307619e-03 -0.007640  ... -0.004031   \n",
       "2023-02-16 -0.003193 -0.007968 -5.961977e-03 -0.007539  ...  0.004636   \n",
       "2023-02-17 -0.003851 -0.011127 -5.283945e-03 -0.002909  ... -0.001597   \n",
       "2023-02-20  0.000016  0.002427  4.729193e-03  0.005916  ...  0.004158   \n",
       "2023-02-21  0.000016  0.001609  1.133277e-02  0.010891  ... -0.002046   \n",
       "2023-02-22 -0.001275 -0.000735  6.426073e-03 -0.001277  ... -0.005362   \n",
       "2023-02-23 -0.003213 -0.001130  1.350729e-03  0.020915  ... -0.002400   \n",
       "2023-02-24  0.011051 -0.005893 -4.204207e-03  0.009030  ...  0.017019   \n",
       "2023-02-27  0.009910 -0.003591 -4.912351e-03  0.054254  ...  0.032194   \n",
       "2023-02-28  0.008625 -0.008422 -9.210534e-03  0.036170  ...  0.027963   \n",
       "\n",
       "symbol       A950130   A950140   A950160   A950170  A950180   A950190  \\\n",
       "date                                                                    \n",
       "2023-01-30 -0.031420 -0.037106 -0.018054  0.036765      NaN -0.001538   \n",
       "2023-01-31 -0.015710 -0.023370 -0.023838  0.013063      NaN -0.006162   \n",
       "2023-02-01 -0.011699 -0.020119 -0.002910  0.003930      NaN -0.003329   \n",
       "2023-02-02  0.005286  0.005398  0.003446 -0.018426      NaN  0.001846   \n",
       "2023-02-03  0.015896  0.001020  0.017369 -0.006547      NaN  0.014381   \n",
       "2023-02-06  0.018291  0.006854  0.003386  0.026281      NaN  0.014348   \n",
       "2023-02-07  0.015000 -0.006296  0.006392  0.036382      NaN  0.013161   \n",
       "2023-02-08  0.008192 -0.001284  0.002674  0.024674      NaN  0.007169   \n",
       "2023-02-09  0.000982 -0.001929  0.011942  0.009504      NaN  0.005936   \n",
       "2023-02-10 -0.011604 -0.001281 -0.000760  0.004398      NaN -0.006318   \n",
       "2023-02-13 -0.019625 -0.005821 -0.006071  0.024440      NaN -0.015025   \n",
       "2023-02-14 -0.014795 -0.003164 -0.017371  0.008386      NaN -0.015303   \n",
       "2023-02-15 -0.003286 -0.012981 -0.020939  0.009931      NaN -0.011378   \n",
       "2023-02-16  0.007007 -0.004515 -0.014189 -0.010696      NaN  0.001899   \n",
       "2023-02-17  0.002846 -0.012516 -0.011860 -0.005699      NaN  0.000382   \n",
       "2023-02-20  0.004034 -0.000967  0.013411 -0.002501      NaN  0.005235   \n",
       "2023-02-21 -0.005936  0.000388  0.011642 -0.002168      NaN -0.004578   \n",
       "2023-02-22 -0.008768 -0.003962  0.005203 -0.006190      NaN -0.007180   \n",
       "2023-02-23 -0.002124 -0.006343 -0.006448 -0.007673      NaN -0.006398   \n",
       "2023-02-24 -0.005192 -0.013522 -0.008182 -0.004046      NaN -0.009565   \n",
       "2023-02-27 -0.009662 -0.009712 -0.005572  0.001866      NaN -0.009444   \n",
       "2023-02-28 -0.027673  0.001635 -0.005560  0.002978      NaN -0.001638   \n",
       "\n",
       "symbol       A950200   A950210   A950220  \n",
       "date                                      \n",
       "2023-01-30  0.016371 -0.021609 -0.018429  \n",
       "2023-01-31 -0.000539  0.000239 -0.007829  \n",
       "2023-02-01 -0.014476  0.001760 -0.002969  \n",
       "2023-02-02 -0.005668  0.016131  0.007951  \n",
       "2023-02-03  0.001517  0.011888  0.008731  \n",
       "2023-02-06  0.026987  0.012605  0.002193  \n",
       "2023-02-07  0.012721  0.069111 -0.002583  \n",
       "2023-02-08  0.012671  0.058263  0.001772  \n",
       "2023-02-09 -0.002619  0.040119  0.000108  \n",
       "2023-02-10 -0.015014  0.023174 -0.008172  \n",
       "2023-02-13 -0.021849  0.026046 -0.008846  \n",
       "2023-02-14 -0.018380  0.036634 -0.001978  \n",
       "2023-02-15 -0.012539 -0.008530  0.006302  \n",
       "2023-02-16  0.006350 -0.009903  0.003051  \n",
       "2023-02-17  0.008654 -0.018634 -0.001299  \n",
       "2023-02-20  0.033016 -0.006282  0.000027  \n",
       "2023-02-21  0.010109 -0.008640 -0.004343  \n",
       "2023-02-22  0.000686 -0.001201 -0.003979  \n",
       "2023-02-23 -0.019405 -0.011787 -0.006235  \n",
       "2023-02-24 -0.019524 -0.001221 -0.015493  \n",
       "2023-02-27 -0.024249  0.016124 -0.016606  \n",
       "2023-02-28 -0.020491  0.011525 -0.014265  \n",
       "\n",
       "[22 rows x 2477 columns])"
      ]
     },
     "execution_count": 16,
     "metadata": {},
     "output_type": "execute_result"
    }
   ],
   "source": [
    "# 캐시 정보\n",
    "print(\"[Cache Information]\")\n",
    "print(f\"Step Counter: {signal._step_counter}\")\n",
    "print(f\"Cache Size: {len(signal._cache)}\")\n",
    "print(f\"\\nCached Steps:\")\n",
    "signal._cache[0]"
   ]
  },
  {
   "cell_type": "markdown",
   "id": "e9a9d2e8",
   "metadata": {},
   "source": [
    "## 7. 백테스팅: 가중치 스케일러 설정\n",
    "\n",
    "DollarNeutral 스케일러를 사용하여 롱-숏 포트폴리오를 구성합니다."
   ]
  },
  {
   "cell_type": "code",
   "execution_count": 19,
   "id": "3a69e3a3",
   "metadata": {},
   "outputs": [
    {
     "name": "stdout",
     "output_type": "stream",
     "text": [
      "[Scaler Configuration]\n",
      "Scaler Type: DollarNeutralScaler\n",
      "Gross Exposure: 2.0\n",
      "Net Exposure: 0.0\n"
     ]
    }
   ],
   "source": [
    "# 스케일러 설정\n",
    "ae.set_scaler('DollarNeutral')\n",
    "\n",
    "print(\"[Scaler Configuration]\")\n",
    "print(f\"Scaler Type: {ae._scaler_manager._active_scaler.__class__.__name__}\")\n",
    "print(f\"Gross Exposure: {ae._scaler_manager._active_scaler.gross}\")\n",
    "print(f\"Net Exposure: {ae._scaler_manager._active_scaler.net}\")"
   ]
  },
  {
   "cell_type": "markdown",
   "id": "581c9ab5",
   "metadata": {},
   "source": [
    "## 8. 시그널을 가중치로 변환\n",
    "\n",
    "시그널을 포트폴리오 가중치로 변환합니다."
   ]
  },
  {
   "cell_type": "code",
   "execution_count": 20,
   "id": "f61d1c0d",
   "metadata": {},
   "outputs": [
    {
     "name": "stdout",
     "output_type": "stream",
     "text": [
      "[Portfolio Weights]\n",
      "symbol       A000020   A000040   A000050   A000060   A000070\n",
      "date                                                        \n",
      "2023-01-30  0.000000  0.000000  0.000000  0.000000  0.000000\n",
      "2023-01-31 -0.000259 -0.000536 -0.000536  0.000687 -0.000104\n",
      "2023-02-01 -0.000259 -0.000536 -0.000536  0.000687 -0.000103\n",
      "2023-02-02 -0.001110 -0.000483 -0.000064 -0.000592 -0.001034\n",
      "2023-02-03 -0.001099  0.000721  0.000035 -0.000464 -0.000797\n",
      "2023-02-06 -0.000157  0.001102  0.000523 -0.000060 -0.000162\n",
      "2023-02-07  0.000775  0.001003 -0.000026  0.000440  0.001356\n",
      "2023-02-08  0.001139 -0.000643 -0.000803 -0.000007 -0.000025\n",
      "2023-02-09 -0.000125 -0.001085 -0.001222 -0.000347 -0.000536\n",
      "2023-02-10 -0.001056 -0.000940 -0.000552 -0.000220 -0.001569\n",
      "\n",
      "Mean Gross Exposure: 1.9091\n",
      "Mean Net Exposure: 0.000000\n"
     ]
    }
   ],
   "source": [
    "weights = ae.to_weights(signal)\n",
    "\n",
    "print(\"[Portfolio Weights]\")\n",
    "print(weights.to_df().iloc[:10, :5])\n",
    "\n",
    "# 가중치 검증\n",
    "weights_df = weights.to_df()\n",
    "print(f\"\\nMean Gross Exposure: {weights_df.abs().sum(axis=1).mean():.4f}\")\n",
    "print(f\"Mean Net Exposure: {weights_df.sum(axis=1).mean():.6f}\")"
   ]
  },
  {
   "cell_type": "markdown",
   "id": "47b6cf73",
   "metadata": {},
   "source": [
    "## 9. 포트폴리오 수익률 계산\n",
    "\n",
    "가중치와 수익률을 곱하여 포트폴리오 수익률을 계산합니다."
   ]
  },
  {
   "cell_type": "code",
   "execution_count": 21,
   "id": "c84b4098",
   "metadata": {},
   "outputs": [
    {
     "name": "stdout",
     "output_type": "stream",
     "text": [
      "[Portfolio Returns]\n",
      "symbol           A000020       A000040       A000050  A000060       A000070\n",
      "date                                                                       \n",
      "2023-01-30           NaN           NaN           NaN      NaN           NaN\n",
      "2023-01-31  0.000000e+00 -0.000000e+00  0.000000e+00      0.0  0.000000e+00\n",
      "2023-02-01 -1.382857e-06  6.999436e-07 -2.004325e-06      0.0 -2.889485e-07\n",
      "2023-02-02 -1.372592e-06 -1.750161e-06 -6.981091e-06      0.0 -4.300462e-07\n",
      "2023-02-03  9.366501e-06 -7.236210e-06 -4.113648e-07     -0.0 -0.000000e+00\n",
      "2023-02-06 -3.508150e-06  2.775620e-06  4.487500e-07     -0.0 -2.202318e-06\n",
      "2023-02-07 -2.327027e-06  4.226278e-06 -4.712939e-06     -0.0 -7.381818e-06\n",
      "2023-02-08 -7.288664e-06 -7.663254e-06  2.587039e-07      0.0 -5.717995e-05\n",
      "2023-02-09  1.201826e-06 -0.000000e+00 -3.690339e-06     -0.0  3.504376e-07\n",
      "2023-02-10  7.878480e-07  1.949532e-05  1.229729e-05     -0.0  2.241985e-06\n"
     ]
    }
   ],
   "source": [
    "port_returns = ae.to_portfolio_returns(weights)\n",
    "\n",
    "print(\"[Portfolio Returns]\")\n",
    "print(port_returns.to_df().iloc[:10, :5])"
   ]
  },
  {
   "cell_type": "markdown",
   "id": "03db889e",
   "metadata": {},
   "source": [
    "## 10. 롱/숏 수익률 분리\n",
    "\n",
    "롱 포지션과 숏 포지션의 수익률을 각각 계산합니다."
   ]
  },
  {
   "cell_type": "code",
   "execution_count": 22,
   "id": "e591f37b",
   "metadata": {},
   "outputs": [
    {
     "name": "stdout",
     "output_type": "stream",
     "text": [
      "[Long Returns]\n",
      "symbol       A000020   A000040       A000050  A000060   A000070\n",
      "date                                                           \n",
      "2023-01-30       NaN       NaN           NaN      NaN       NaN\n",
      "2023-01-31  0.000000 -0.000000  0.000000e+00      0.0  0.000000\n",
      "2023-02-01  0.000000 -0.000000  0.000000e+00      0.0  0.000000\n",
      "2023-02-02  0.000000  0.000000  0.000000e+00      0.0  0.000000\n",
      "2023-02-03 -0.000000  0.000000  0.000000e+00      0.0  0.000000\n",
      "2023-02-06  0.000000  0.000003  4.487500e-07      0.0  0.000000\n",
      "2023-02-07  0.000000  0.000004 -4.712939e-06      0.0  0.000000\n",
      "2023-02-08 -0.000007 -0.000008 -0.000000e+00      0.0 -0.000057\n",
      "2023-02-09  0.000001  0.000000  0.000000e+00      0.0 -0.000000\n",
      "2023-02-10 -0.000000 -0.000000 -0.000000e+00      0.0 -0.000000\n",
      "\n",
      "[Short Returns]\n",
      "symbol           A000020       A000040       A000050  A000060       A000070\n",
      "date                                                                       \n",
      "2023-01-30           NaN           NaN           NaN      NaN           NaN\n",
      "2023-01-31  0.000000e+00 -0.000000e+00  0.000000e+00      0.0  0.000000e+00\n",
      "2023-02-01 -1.382857e-06  6.999436e-07 -2.004325e-06      0.0 -2.889485e-07\n",
      "2023-02-02 -1.372592e-06 -1.750161e-06 -6.981091e-06      0.0 -4.300462e-07\n",
      "2023-02-03  9.366501e-06 -7.236210e-06 -4.113648e-07     -0.0 -0.000000e+00\n",
      "2023-02-06 -3.508150e-06  0.000000e+00  0.000000e+00     -0.0 -2.202318e-06\n",
      "2023-02-07 -2.327027e-06  0.000000e+00 -0.000000e+00     -0.0 -7.381818e-06\n",
      "2023-02-08 -0.000000e+00 -0.000000e+00  2.587039e-07      0.0 -0.000000e+00\n",
      "2023-02-09  0.000000e+00 -0.000000e+00 -3.690339e-06     -0.0  3.504376e-07\n",
      "2023-02-10  7.878480e-07  1.949532e-05  1.229729e-05     -0.0  2.241985e-06\n"
     ]
    }
   ],
   "source": [
    "long_returns = ae.to_long_returns(weights)\n",
    "short_returns = ae.to_short_returns(weights)\n",
    "\n",
    "print(\"[Long Returns]\")\n",
    "print(long_returns.to_df().iloc[:10, :5])\n",
    "\n",
    "print(\"\\n[Short Returns]\")\n",
    "print(short_returns.to_df().iloc[:10, :5])"
   ]
  },
  {
   "cell_type": "markdown",
   "id": "804b73e7",
   "metadata": {},
   "source": [
    "## 11. 누적 수익률 및 성과 분석\n",
    "\n",
    "전체, 롱, 숏 포트폴리오의 누적 수익률을 계산하고 시각화합니다."
   ]
  },
  {
   "cell_type": "code",
   "execution_count": 23,
   "id": "2201b150",
   "metadata": {},
   "outputs": [
    {
     "data": {
      "image/png": "[encoded data removed]",
      "text/plain": [
       "<Figure size 1200x600 with 1 Axes>"
      ]
     },
     "metadata": {},
     "output_type": "display_data"
    }
   ],
   "source": [
    "# 일별 수익률 합산\n",
    "daily_pnl = port_returns.to_df().sum(axis=1)\n",
    "long_daily_pnl = long_returns.to_df().sum(axis=1)\n",
    "short_daily_pnl = short_returns.to_df().sum(axis=1)\n",
    "\n",
    "# 누적 수익률\n",
    "cum_pnl = daily_pnl.cumsum()\n",
    "long_cum_pnl = long_daily_pnl.cumsum()\n",
    "short_cum_pnl = short_daily_pnl.cumsum()\n",
    "\n",
    "# 시각화\n",
    "plt.figure(figsize=(12, 6))\n",
    "plt.plot(cum_pnl.index, cum_pnl.values, label='Combined', linewidth=2)\n",
    "plt.plot(long_cum_pnl.index, long_cum_pnl.values, label='Long', linewidth=1.5, alpha=0.7)\n",
    "plt.plot(short_cum_pnl.index, short_cum_pnl.values, label='Short', linewidth=1.5, alpha=0.7)\n",
    "plt.xlabel('Date')\n",
    "plt.ylabel('Cumulative PnL')\n",
    "plt.title('Portfolio Cumulative Returns')\n",
    "plt.legend()\n",
    "plt.grid(True, alpha=0.3)\n",
    "plt.tight_layout()\n",
    "plt.show()"
   ]
  },
  {
   "cell_type": "markdown",
   "id": "9353c485",
   "metadata": {},
   "source": [
    "## 12. 성과 지표\n",
    "\n",
    "연율화된 수익률, 변동성, 샤프 비율을 계산합니다."
   ]
  },
  {
   "cell_type": "code",
   "execution_count": 24,
   "id": "9cdadecc",
   "metadata": {},
   "outputs": [
    {
     "name": "stdout",
     "output_type": "stream",
     "text": [
      "[Performance Metrics - Combined Portfolio]\n",
      "Annualized Return: -0.0267 (-2.67%)\n",
      "Annualized Volatility: 0.0655 (6.55%)\n",
      "Sharpe Ratio: -0.41\n",
      "\n",
      "Total Return: -0.0023 (-0.23%)\n",
      "Max Drawdown: -0.0227\n"
     ]
    }
   ],
   "source": [
    "# 성과 지표 계산 (Combined 포트폴리오)\n",
    "annualized_return = daily_pnl.mean() * 252\n",
    "annualized_std = daily_pnl.std() * np.sqrt(252)\n",
    "sharpe_ratio = daily_pnl.mean() / daily_pnl.std() * np.sqrt(252)\n",
    "\n",
    "print(\"[Performance Metrics - Combined Portfolio]\")\n",
    "print(f\"Annualized Return: {annualized_return:.4f} ({annualized_return*100:.2f}%)\")\n",
    "print(f\"Annualized Volatility: {annualized_std:.4f} ({annualized_std*100:.2f}%)\")\n",
    "print(f\"Sharpe Ratio: {sharpe_ratio:.2f}\")\n",
    "print(f\"\\nTotal Return: {cum_pnl.iloc[-1]:.4f} ({cum_pnl.iloc[-1]*100:.2f}%)\")\n",
    "print(f\"Max Drawdown: {(cum_pnl - cum_pnl.cummax()).min():.4f}\")"
   ]
  },
  {
   "cell_type": "markdown",
   "id": "1abcdc43",
   "metadata": {},
   "source": [
    "## 요약\n",
    "\n",
    "이 튜토리얼에서 다룬 내용:\n",
    "\n",
    "1. ✅ AlphaExcel 초기화 및 설정\n",
    "2. ✅ 연산자 탐색 (메서드 기반 API)\n",
    "3. ✅ 다양한 타입의 데이터 필드 로딩\n",
    "4. ✅ 시계열 연산 (이동평균)\n",
    "5. ✅ 그룹 연산 (섹터 내 순위)\n",
    "6. ✅ 캐시 상속 및 히스토리 추적\n",
    "7. ✅ 백테스팅 (가중치 스케일링)\n",
    "8. ✅ 포트폴리오 수익률 계산\n",
    "9. ✅ 롱/숏 수익률 분리 분석\n",
    "10. ✅ 성과 지표 계산 및 시각화\n",
    "\n",
    "Alpha Excel v2.0의 주요 장점:\n",
    "- 🚀 즉시 실행으로 빠른 프로토타이핑\n",
    "- 🎯 타입 인식 시스템으로 자동 전처리\n",
    "- 💡 메서드 기반 API로 편리한 사용\n",
    "- 🔍 캐시 상속으로 디버깅 용이\n",
    "- ⚙️ 설정 기반 설계로 유연한 커스터마이징"
   ]
  }
 ],
 "metadata": {
  "kernelspec": {
   "display_name": "alpha-canvas-py3.12",
   "language": "python",
   "name": "python3"
  },
  "language_info": {
   "codemirror_mode": {
    "name": "ipython",
    "version": 3
   },
   "file_extension": ".py",
   "mimetype": "text/x-python",
   "name": "python",
   "nbconvert_exporter": "python",
   "pygments_lexer": "ipython3",
   "version": "3.12.7"
  }
 },
 "nbformat": 4,
 "nbformat_minor": 5
}
